{
 "cells": [
  {
   "cell_type": "code",
   "execution_count": 5,
   "metadata": {},
   "outputs": [],
   "source": [
    "import pandas as pd\n",
    "import numpy as np\n",
    "from nltk.tokenize import RegexpTokenizer"
   ]
  },
  {
   "cell_type": "code",
   "execution_count": 6,
   "metadata": {},
   "outputs": [],
   "source": [
    "def cleaning(df, column):\n",
    "    \n",
    "#     tokenizing the strings and cleaning punctuation\n",
    "    tokenizer = RegexpTokenizer('\\s+', gaps=True)\n",
    "    for i in range(df.shape[0]):\n",
    "        text = df[column][i]\n",
    "        tokens = tokenizer.tokenize(text)\n",
    "        clean_tokens = []\n",
    "        for token in tokens:\n",
    "            token = token.replace(\",\", \n",
    "                          \"\").replace(\"?\", \n",
    "                            \"\").replace(\"!\", \n",
    "                              \"\").replace(\"'\", \n",
    "                                \"\").replace(\".\",\n",
    "                                  \"\").replace(\"\\'t\", \n",
    "                                   \"\").replace(\"#\",\n",
    "                                    \"\").lower()\n",
    "            token = token.encode('ascii', 'ignore').decode('ascii')\n",
    "            clean_tokens.append(token)\n",
    "\n",
    "        seperator = ' '\n",
    "        df[column][i] = seperator.join(clean_tokens)\n",
    "    return df\n"
   ]
  },
  {
   "cell_type": "code",
   "execution_count": 7,
   "metadata": {},
   "outputs": [],
   "source": [
    "paid_pak = pd.read_csv('../Data/Uncleaned/2013_Pakistan_eq/2013_Pakistan_eq_CF_labeled_data.tsv',sep=\"\\t\")\n",
    "paid_ca = pd.read_csv('../Data/Uncleaned/2014_California_Earthquake/2014_California_Earthquake_CF_labeled_data.tsv',sep=\"\\t\")\n",
    "paid_chile = pd.read_csv('../Data/Uncleaned/2014_Chile_Earthquake_en/2014_Chile_Earthquake_en_CF_labeled_data.tsv',sep=\"\\t\")\n",
    "paid_nepal = pd.read_csv('../Data/Uncleaned/2015_Nepal_Earthquake_en/2015_Nepal_Earthquake_en_CF_labeled_data.tsv',sep=\"\\t\")"
   ]
  },
  {
   "cell_type": "code",
   "execution_count": 8,
   "metadata": {},
   "outputs": [],
   "source": [
    "paid_pak = cleaning(paid_pak, 'tweet_text')\n",
    "paid_ca = cleaning(paid_ca, 'tweet_text')\n",
    "paid_chile = cleaning(paid_chile, 'tweet_text')\n",
    "paid_nepal = cleaning(paid_nepal, 'tweet_text')"
   ]
  },
  {
   "cell_type": "code",
   "execution_count": 9,
   "metadata": {},
   "outputs": [],
   "source": [
    "paid_pak.to_csv('../Data/Cleaned/paid_pak.csv', index=False)\n",
    "paid_ca.to_csv('../Data/Cleaned/paid_ca.csv', index=False)\n",
    "paid_chile.to_csv('../Data/Cleaned/paid_chile.csv', index=False)\n",
    "paid_nepal.to_csv('../Data/Cleaned/paid_nepal.csv', index=False)"
   ]
  }
 ],
 "metadata": {
  "kernelspec": {
   "display_name": "Python 3",
   "language": "python",
   "name": "python3"
  },
  "language_info": {
   "codemirror_mode": {
    "name": "ipython",
    "version": 3
   },
   "file_extension": ".py",
   "mimetype": "text/x-python",
   "name": "python",
   "nbconvert_exporter": "python",
   "pygments_lexer": "ipython3",
   "version": "3.7.3"
  }
 },
 "nbformat": 4,
 "nbformat_minor": 2
}
