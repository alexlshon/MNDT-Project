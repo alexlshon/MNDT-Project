{
 "cells": [
  {
   "cell_type": "code",
   "execution_count": 2,
   "metadata": {},
   "outputs": [],
   "source": [
    "import pandas as pd\n",
    "import ast"
   ]
  },
  {
   "cell_type": "code",
   "execution_count": 3,
   "metadata": {},
   "outputs": [],
   "source": [
    "def coordinates(df, col):\n",
    "    lat_long = {\"latitude\": {}, \n",
    "                \"longitude\": {}}\n",
    "    for i, cell in enumerate(df[col]):\n",
    "        x, y = ast.literal_eval(df.location[i])['coordinates']\n",
    "        lat_long['latitude'].update({i:x})\n",
    "        lat_long['longitude'].update({i:y})\n",
    "    df = df.drop(columns = col)\n",
    "    return df.join(pd.DataFrame(lat_long))\n",
    "        "
   ]
  },
  {
   "cell_type": "code",
   "execution_count": 53,
   "metadata": {},
   "outputs": [],
   "source": [
    "df = pd.read_csv(\"../Data/earthquake_testing.csv\")\n",
    "\n",
    "df.rename(mapper = {\n",
    "    \"Longitude\": \"origin_long\",\n",
    "    \"Latitude\": \"origin_lat\",\n",
    "    \"text\": \"tweet_text\"\n",
    "}, axis=1, inplace=True)\n",
    "\n",
    "df.drop(columns=[\"Unnamed: 0\"], inplace=True)\n",
    "\n",
    "df.dropna(inplace=True)\n",
    "df.reset_index(inplace=True)\n",
    "df.drop(columns='index', inplace=True)\n",
    "\n",
    "df = coordinates(df, \"location\")\n",
    "df.to_csv(\"../Data/tweet_located.csv\", index=False)"
   ]
  }
 ],
 "metadata": {
  "kernelspec": {
   "display_name": "Python 3",
   "language": "python",
   "name": "python3"
  },
  "language_info": {
   "codemirror_mode": {
    "name": "ipython",
    "version": 3
   },
   "file_extension": ".py",
   "mimetype": "text/x-python",
   "name": "python",
   "nbconvert_exporter": "python",
   "pygments_lexer": "ipython3",
   "version": "3.7.3"
  }
 },
 "nbformat": 4,
 "nbformat_minor": 2
}
