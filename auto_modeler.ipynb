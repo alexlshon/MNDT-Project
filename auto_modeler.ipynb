{
 "cells": [
  {
   "cell_type": "code",
   "execution_count": 1,
   "metadata": {},
   "outputs": [],
   "source": [
    "import pandas as pd\n",
    "import numpy as np\n",
    "import pickle \n",
    "from sklearn.ensemble import RandomForestClassifier\n",
    "from sklearn.feature_extraction.text import TfidfVectorizer"
   ]
  },
  {
   "cell_type": "code",
   "execution_count": 2,
   "metadata": {},
   "outputs": [],
   "source": [
    "rfmodel = pickle.load(open('./Jupyter Notebooks/Modeling/rndm_forest.sav', 'rb'))\n",
    "tvec = pickle.load(open('./Jupyter Notebooks/Modeling/tvec.sav', 'rb'))\n",
    "df = pd.read_csv('earthquake1104.csv')\n",
    "try:\n",
    "    df.drop(columns = 'Unnamed: 0',inplace = True)\n",
    "except:\n",
    "    pass \n",
    "X = df['text']\n",
    "X_vectorized = tvec.transform(X).todense()\n",
    "df['predicted_relavent'] = rfmodel.predict(X_vectorized)"
   ]
  },
  {
   "cell_type": "code",
   "execution_count": 3,
   "metadata": {},
   "outputs": [
    {
     "data": {
      "text/html": [
       "<div>\n",
       "<style scoped>\n",
       "    .dataframe tbody tr th:only-of-type {\n",
       "        vertical-align: middle;\n",
       "    }\n",
       "\n",
       "    .dataframe tbody tr th {\n",
       "        vertical-align: top;\n",
       "    }\n",
       "\n",
       "    .dataframe thead th {\n",
       "        text-align: right;\n",
       "    }\n",
       "</style>\n",
       "<table border=\"1\" class=\"dataframe\">\n",
       "  <thead>\n",
       "    <tr style=\"text-align: right;\">\n",
       "      <th></th>\n",
       "      <th>created</th>\n",
       "      <th>text</th>\n",
       "      <th>location</th>\n",
       "      <th>hashtags</th>\n",
       "      <th>locationcoor</th>\n",
       "      <th>predicted_relavent</th>\n",
       "    </tr>\n",
       "  </thead>\n",
       "  <tbody>\n",
       "    <tr>\n",
       "      <td>0</td>\n",
       "      <td>2019-11-04 21:18:41</td>\n",
       "      <td>Ml 2.8 earthquake (automatic) occured at 2019-...</td>\n",
       "      <td>{'type': 'Point', 'coordinates': [60.1553, -15...</td>\n",
       "      <td>[]</td>\n",
       "      <td>60.1536,-151.8777,10mi</td>\n",
       "      <td>1</td>\n",
       "    </tr>\n",
       "    <tr>\n",
       "      <td>1</td>\n",
       "      <td>2019-11-04 21:15:03</td>\n",
       "      <td>2.7 magnitude #earthquake. 39 km from Cohoe, #...</td>\n",
       "      <td>{'type': 'Point', 'coordinates': [60.154, -151...</td>\n",
       "      <td>[Hashtag(Text='earthquake'), Hashtag(Text='AK')]</td>\n",
       "      <td>60.1536,-151.8777,10mi</td>\n",
       "      <td>1</td>\n",
       "    </tr>\n",
       "    <tr>\n",
       "      <td>2</td>\n",
       "      <td>2019-11-04 21:14:02</td>\n",
       "      <td>USGS reports a M2.7 #earthquake 39km SW of Coh...</td>\n",
       "      <td>{'type': 'Point', 'coordinates': [60.1535, -15...</td>\n",
       "      <td>[Hashtag(Text='earthquake'), Hashtag(Text='qua...</td>\n",
       "      <td>60.1536,-151.8777,10mi</td>\n",
       "      <td>1</td>\n",
       "    </tr>\n",
       "    <tr>\n",
       "      <td>3</td>\n",
       "      <td>2019-11-04 21:12:38</td>\n",
       "      <td>Ml 2.7 earthquake (automatic) occured at 2019-...</td>\n",
       "      <td>{'type': 'Point', 'coordinates': [60.1535, -15...</td>\n",
       "      <td>[]</td>\n",
       "      <td>60.1536,-151.8777,10mi</td>\n",
       "      <td>1</td>\n",
       "    </tr>\n",
       "    <tr>\n",
       "      <td>4</td>\n",
       "      <td>2019-11-04 19:04:57</td>\n",
       "      <td>Mww 5.3 earthquake (reviewed) occured at 2019-...</td>\n",
       "      <td>{'type': 'Point', 'coordinates': [-22.1757, -1...</td>\n",
       "      <td>[]</td>\n",
       "      <td>-22.1757,-176.5294,10mi</td>\n",
       "      <td>1</td>\n",
       "    </tr>\n",
       "  </tbody>\n",
       "</table>\n",
       "</div>"
      ],
      "text/plain": [
       "               created                                               text  \\\n",
       "0  2019-11-04 21:18:41  Ml 2.8 earthquake (automatic) occured at 2019-...   \n",
       "1  2019-11-04 21:15:03  2.7 magnitude #earthquake. 39 km from Cohoe, #...   \n",
       "2  2019-11-04 21:14:02  USGS reports a M2.7 #earthquake 39km SW of Coh...   \n",
       "3  2019-11-04 21:12:38  Ml 2.7 earthquake (automatic) occured at 2019-...   \n",
       "4  2019-11-04 19:04:57  Mww 5.3 earthquake (reviewed) occured at 2019-...   \n",
       "\n",
       "                                            location  \\\n",
       "0  {'type': 'Point', 'coordinates': [60.1553, -15...   \n",
       "1  {'type': 'Point', 'coordinates': [60.154, -151...   \n",
       "2  {'type': 'Point', 'coordinates': [60.1535, -15...   \n",
       "3  {'type': 'Point', 'coordinates': [60.1535, -15...   \n",
       "4  {'type': 'Point', 'coordinates': [-22.1757, -1...   \n",
       "\n",
       "                                            hashtags             locationcoor  \\\n",
       "0                                                 []   60.1536,-151.8777,10mi   \n",
       "1   [Hashtag(Text='earthquake'), Hashtag(Text='AK')]   60.1536,-151.8777,10mi   \n",
       "2  [Hashtag(Text='earthquake'), Hashtag(Text='qua...   60.1536,-151.8777,10mi   \n",
       "3                                                 []   60.1536,-151.8777,10mi   \n",
       "4                                                 []  -22.1757,-176.5294,10mi   \n",
       "\n",
       "   predicted_relavent  \n",
       "0                   1  \n",
       "1                   1  \n",
       "2                   1  \n",
       "3                   1  \n",
       "4                   1  "
      ]
     },
     "execution_count": 3,
     "metadata": {},
     "output_type": "execute_result"
    }
   ],
   "source": [
    "import sqlite3\n",
    "conn = sqlite3.connect('example.db')\n",
    "c = conn.cursor()\n",
    "df.head()"
   ]
  },
  {
   "cell_type": "code",
   "execution_count": 4,
   "metadata": {},
   "outputs": [],
   "source": [
    "schema_eq = '''\n",
    "DROP TABLE IF EXISTS earthquake;\n",
    "\n",
    "CREATE TABLE earthquake(\n",
    "  id INTEGER PRIMARY KEY AUTOINCREMENT,\n",
    "  created TIMESTAMP NOT NULL,\n",
    "  text TEXT NOT NULL,\n",
    "  location TEXT NOT NULL,\n",
    "  predicted_relevant BOOLEAN\n",
    ");\n",
    "'''"
   ]
  },
  {
   "cell_type": "code",
   "execution_count": 5,
   "metadata": {
    "scrolled": true
   },
   "outputs": [],
   "source": [
    "df.dropna(inplace = True)"
   ]
  },
  {
   "cell_type": "code",
   "execution_count": 8,
   "metadata": {},
   "outputs": [],
   "source": [
    "df.to_sql(name = 'earthquake',con = conn, schema = schema_eq,if_exists = 'replace')"
   ]
  },
  {
   "cell_type": "code",
   "execution_count": null,
   "metadata": {},
   "outputs": [],
   "source": []
  }
 ],
 "metadata": {
  "kernelspec": {
   "display_name": "Python 3",
   "language": "python",
   "name": "python3"
  },
  "language_info": {
   "codemirror_mode": {
    "name": "ipython",
    "version": 3
   },
   "file_extension": ".py",
   "mimetype": "text/x-python",
   "name": "python",
   "nbconvert_exporter": "python",
   "pygments_lexer": "ipython3",
   "version": "3.7.3"
  }
 },
 "nbformat": 4,
 "nbformat_minor": 2
}
